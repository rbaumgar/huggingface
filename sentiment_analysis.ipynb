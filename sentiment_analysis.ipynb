{
 "cells": [
  {
   "cell_type": "markdown",
   "metadata": {},
   "source": [
    "A simple HuggingFace/Gradio program.\n",
    "\n"
   ]
  },
  {
   "cell_type": "code",
   "execution_count": null,
   "metadata": {
    "tags": []
   },
   "outputs": [],
   "source": [
    "from transformers import pipeline\n",
    "\n",
    "import gradio as gr\n",
    "\n",
    "def predict(prompt: str) -> list:\n",
    "    \"\"\"Predict the sentiment\n",
    "    Args:\n",
    "        prompt (str): The input prompt.\n",
    "\n",
    "    Returns:\n",
    "        list: A list of positive or negative sentiments and their probabilities.\n",
    "    \"\"\"\n",
    "    return classifier([prompt])\n",
    "\n",
    "if __name__ == \"__main__\":\n",
    "    # classifier = pipeline(\"sentiment-analysis\")\n",
    "    classifier = pipeline(\"sentiment-analysis\", model=\"distilbert/distilbert-base-uncased-finetuned-sst-2-english\")\n",
    "    # classifier = pipeline(\"text-classification\", model=\"nlptown/bert-base-multilingual-uncased-sentiment\")\n",
    "    \n",
    "examples = [\n",
    "    \"The book was well written with an exciting plot.\",\n",
    "    \"I could barely stay awake as I read the first chapter.\",\n",
    "    \"I love you.\",\n",
    "    \"I hate you.\",\n",
    "]\n",
    "\n",
    "demo = gr.Interface(fn=predict, inputs=\"text\", outputs=\"text\", examples=examples)\n",
    "demo.launch(server_name=\"0.0.0.0\", server_port=8080, share=True)"
   ]
  }
 ],
 "metadata": {
  "anaconda-cloud": {},
  "kernelspec": {
   "display_name": "Python 3.9",
   "language": "python",
   "name": "python3"
  },
  "language_info": {
   "codemirror_mode": {
    "name": "ipython",
    "version": 3
   },
   "file_extension": ".py",
   "mimetype": "text/x-python",
   "name": "python",
   "nbconvert_exporter": "python",
   "pygments_lexer": "ipython3",
   "version": "3.9.18"
  }
 },
 "nbformat": 4,
 "nbformat_minor": 4
}
